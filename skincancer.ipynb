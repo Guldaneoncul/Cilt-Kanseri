{
 "cells": [
  {
   "cell_type": "code",
   "execution_count": 1,
   "metadata": {
    "_cell_guid": "b1076dfc-b9ad-4769-8c92-a6c4dae69d19",
    "_uuid": "8f2839f25d086af736a60e9eeb907d3b93b6e0e5"
   },
   "outputs": [
    {
     "name": "stdout",
     "output_type": "stream",
     "text": [
      "['hmnist_28_28_RGB.csv', 'HAM10000_metadata.csv', 'hmnist_28_28_L.csv', 'ham10000_images_part_2', 'hmnist_8_8_RGB.csv', 'ham10000_images_part_1', 'hmnist_8_8_L.csv']\n"
     ]
    }
   ],
   "source": [
    "# This Python 3 environment comes with many helpful analytics libraries installed\n",
    "# It is defined by the kaggle/python docker image: https://github.com/kaggle/docker-python\n",
    "# For example, here's several helpful packages to load in \n",
    "%matplotlib inline\n",
    "import matplotlib.pyplot as plt\n",
    "import numpy as np\n",
    "import pandas as pd\n",
    "import os\n",
    "from PIL import Image\n",
    "from glob import glob\n",
    "import seaborn as sns\n",
    "# data processing, CSV file I/O (e.g. pd.read_csv)\n",
    "\n",
    "# Input data files are available in the \"../input/\" directory.\n",
    "# For example, running this (by clicking run or pressing Shift+Enter) will list the files in the input directory\n",
    "\n",
    "import os\n",
    "print(os.listdir(\"../input\"))\n",
    "base_skin_dir = os.path.join('..', 'input')\n",
    "\n",
    "# Any results you write to the current directory are saved as output."
   ]
  },
  {
   "cell_type": "code",
   "execution_count": 2,
   "metadata": {
    "_cell_guid": "79c7e3d0-c299-4dcb-8224-4455121ee9b0",
    "_uuid": "d629ff2d2480ee46fbb7e2d37f6b5fab8052498a"
   },
   "outputs": [],
   "source": [
    "\n",
    "imageid_path_dict = {os.path.splitext(os.path.basename(x))[0]: x\n",
    "                     for x in glob(os.path.join(base_skin_dir, '*', '*.jpg'))}\n",
    "\n",
    "lesion_type_dict = {\n",
    "    'nv': 'Melanocytic nevi', #\"ben\"\n",
    "    'mel': 'Melanoma', # dermatofibroma -> Melanoma olarak değiştirildi\n",
    "    'bkl': 'Benign keratosis-like lesions ', #lezyonlar\n",
    "    'bcc': 'Basal cell carcinoma',#Bazal hücreli karsinom\n",
    "    'akiec': 'Actinic keratoses', #Aktinik keratozlar\n",
    "    'vasc': 'Vascular lesions', #Vasküler lezyonlar\n",
    "    'df': 'Dermatofibroma'\n",
    "}"
   ]
  },
  {
   "cell_type": "code",
   "execution_count": 3,
   "metadata": {},
   "outputs": [
    {
     "name": "stdout",
     "output_type": "stream",
     "text": [
      "Dermatofibroma\n"
     ]
    }
   ],
   "source": [
    "print(lesion_type_dict.get(\"df\"))"
   ]
  },
  {
   "cell_type": "code",
   "execution_count": 4,
   "metadata": {},
   "outputs": [
    {
     "data": {
      "text/html": [
       "<div>\n",
       "<style scoped>\n",
       "    .dataframe tbody tr th:only-of-type {\n",
       "        vertical-align: middle;\n",
       "    }\n",
       "\n",
       "    .dataframe tbody tr th {\n",
       "        vertical-align: top;\n",
       "    }\n",
       "\n",
       "    .dataframe thead th {\n",
       "        text-align: right;\n",
       "    }\n",
       "</style>\n",
       "<table border=\"1\" class=\"dataframe\">\n",
       "  <thead>\n",
       "    <tr style=\"text-align: right;\">\n",
       "      <th></th>\n",
       "      <th>lesion_id</th>\n",
       "      <th>image_id</th>\n",
       "      <th>dx</th>\n",
       "      <th>dx_type</th>\n",
       "      <th>age</th>\n",
       "      <th>sex</th>\n",
       "      <th>localization</th>\n",
       "      <th>path</th>\n",
       "      <th>cell_type</th>\n",
       "      <th>cell_type_idx</th>\n",
       "      <th>is_cancer</th>\n",
       "    </tr>\n",
       "  </thead>\n",
       "  <tbody>\n",
       "    <tr>\n",
       "      <th>5040</th>\n",
       "      <td>HAM_0007185</td>\n",
       "      <td>ISIC_0025189</td>\n",
       "      <td>nv</td>\n",
       "      <td>follow_up</td>\n",
       "      <td>65.0</td>\n",
       "      <td>male</td>\n",
       "      <td>back</td>\n",
       "      <td>../input/ham10000_images_part_1/ISIC_0025189.jpg</td>\n",
       "      <td>Melanocytic nevi</td>\n",
       "      <td>4</td>\n",
       "      <td>0</td>\n",
       "    </tr>\n",
       "    <tr>\n",
       "      <th>7928</th>\n",
       "      <td>HAM_0002874</td>\n",
       "      <td>ISIC_0033912</td>\n",
       "      <td>nv</td>\n",
       "      <td>histo</td>\n",
       "      <td>45.0</td>\n",
       "      <td>male</td>\n",
       "      <td>abdomen</td>\n",
       "      <td>../input/ham10000_images_part_2/ISIC_0033912.jpg</td>\n",
       "      <td>Melanocytic nevi</td>\n",
       "      <td>4</td>\n",
       "      <td>0</td>\n",
       "    </tr>\n",
       "    <tr>\n",
       "      <th>9715</th>\n",
       "      <td>HAM_0003989</td>\n",
       "      <td>ISIC_0030714</td>\n",
       "      <td>akiec</td>\n",
       "      <td>histo</td>\n",
       "      <td>70.0</td>\n",
       "      <td>female</td>\n",
       "      <td>face</td>\n",
       "      <td>../input/ham10000_images_part_2/ISIC_0030714.jpg</td>\n",
       "      <td>Actinic keratoses</td>\n",
       "      <td>0</td>\n",
       "      <td>1</td>\n",
       "    </tr>\n",
       "  </tbody>\n",
       "</table>\n",
       "</div>"
      ],
      "text/plain": [
       "        lesion_id      image_id    ...    cell_type_idx is_cancer\n",
       "5040  HAM_0007185  ISIC_0025189    ...                4         0\n",
       "7928  HAM_0002874  ISIC_0033912    ...                4         0\n",
       "9715  HAM_0003989  ISIC_0030714    ...                0         1\n",
       "\n",
       "[3 rows x 11 columns]"
      ]
     },
     "execution_count": 4,
     "metadata": {},
     "output_type": "execute_result"
    }
   ],
   "source": [
    "tile_df = pd.read_csv(os.path.join(base_skin_dir, 'HAM10000_metadata.csv'))\n",
    "#display(tile_df)\n",
    "tile_df['path'] = tile_df['image_id'].map(imageid_path_dict.get)\n",
    "#print(tile_df['path'])\n",
    "tile_df['cell_type'] = tile_df['dx'].map(lesion_type_dict.get) \n",
    "tile_df['cell_type_idx'] = pd.Categorical(tile_df['cell_type']).codes #label_encoding\n",
    "tile_df['is_cancer']=tile_df['dx'].map(lambda x: 1 if x != \"nv\" else 0)\n",
    "tile_df.sample(3)"
   ]
  },
  {
   "cell_type": "code",
   "execution_count": 5,
   "metadata": {},
   "outputs": [],
   "source": []
  },
  {
   "cell_type": "code",
   "execution_count": 5,
   "metadata": {},
   "outputs": [
    {
     "name": "stdout",
     "output_type": "stream",
     "text": [
      "<class 'pandas.core.frame.DataFrame'>\n",
      "RangeIndex: 10015 entries, 0 to 10014\n",
      "Data columns (total 11 columns):\n",
      "lesion_id        10015 non-null object\n",
      "image_id         10015 non-null object\n",
      "dx               10015 non-null object\n",
      "dx_type          10015 non-null object\n",
      "age              9958 non-null float64\n",
      "sex              10015 non-null object\n",
      "localization     10015 non-null object\n",
      "path             10015 non-null object\n",
      "cell_type        10015 non-null object\n",
      "cell_type_idx    10015 non-null int8\n",
      "is_cancer        10015 non-null int64\n",
      "dtypes: float64(1), int64(1), int8(1), object(8)\n",
      "memory usage: 792.3+ KB\n"
     ]
    },
    {
     "data": {
      "text/html": [
       "<div>\n",
       "<style scoped>\n",
       "    .dataframe tbody tr th:only-of-type {\n",
       "        vertical-align: middle;\n",
       "    }\n",
       "\n",
       "    .dataframe tbody tr th {\n",
       "        vertical-align: top;\n",
       "    }\n",
       "\n",
       "    .dataframe thead th {\n",
       "        text-align: right;\n",
       "    }\n",
       "</style>\n",
       "<table border=\"1\" class=\"dataframe\">\n",
       "  <thead>\n",
       "    <tr style=\"text-align: right;\">\n",
       "      <th></th>\n",
       "      <th>lesion_id</th>\n",
       "      <th>image_id</th>\n",
       "      <th>dx</th>\n",
       "      <th>dx_type</th>\n",
       "      <th>sex</th>\n",
       "      <th>localization</th>\n",
       "      <th>path</th>\n",
       "      <th>cell_type</th>\n",
       "    </tr>\n",
       "  </thead>\n",
       "  <tbody>\n",
       "    <tr>\n",
       "      <th>count</th>\n",
       "      <td>10015</td>\n",
       "      <td>10015</td>\n",
       "      <td>10015</td>\n",
       "      <td>10015</td>\n",
       "      <td>10015</td>\n",
       "      <td>10015</td>\n",
       "      <td>10015</td>\n",
       "      <td>10015</td>\n",
       "    </tr>\n",
       "    <tr>\n",
       "      <th>unique</th>\n",
       "      <td>7470</td>\n",
       "      <td>10015</td>\n",
       "      <td>7</td>\n",
       "      <td>4</td>\n",
       "      <td>3</td>\n",
       "      <td>15</td>\n",
       "      <td>10015</td>\n",
       "      <td>7</td>\n",
       "    </tr>\n",
       "    <tr>\n",
       "      <th>top</th>\n",
       "      <td>HAM_0000835</td>\n",
       "      <td>ISIC_0030517</td>\n",
       "      <td>nv</td>\n",
       "      <td>histo</td>\n",
       "      <td>male</td>\n",
       "      <td>back</td>\n",
       "      <td>../input/ham10000_images_part_1/ISIC_0026737.jpg</td>\n",
       "      <td>Melanocytic nevi</td>\n",
       "    </tr>\n",
       "    <tr>\n",
       "      <th>freq</th>\n",
       "      <td>6</td>\n",
       "      <td>1</td>\n",
       "      <td>6705</td>\n",
       "      <td>5340</td>\n",
       "      <td>5406</td>\n",
       "      <td>2192</td>\n",
       "      <td>1</td>\n",
       "      <td>6705</td>\n",
       "    </tr>\n",
       "  </tbody>\n",
       "</table>\n",
       "</div>"
      ],
      "text/plain": [
       "          lesion_id        ...                cell_type\n",
       "count         10015        ...                    10015\n",
       "unique         7470        ...                        7\n",
       "top     HAM_0000835        ...         Melanocytic nevi\n",
       "freq              6        ...                     6705\n",
       "\n",
       "[4 rows x 8 columns]"
      ]
     },
     "execution_count": 5,
     "metadata": {},
     "output_type": "execute_result"
    }
   ],
   "source": [
    "tile_df.info()\n",
    "tile_df.describe(exclude=[np.number])"
   ]
  },
  {
   "cell_type": "code",
   "execution_count": 6,
   "metadata": {},
   "outputs": [
    {
     "data": {
      "text/plain": [
       "Melanocytic nevi                  6705\n",
       "Melanoma                          1113\n",
       "Benign keratosis-like lesions     1099\n",
       "Basal cell carcinoma               514\n",
       "Actinic keratoses                  327\n",
       "Vascular lesions                   142\n",
       "Dermatofibroma                     115\n",
       "Name: cell_type, dtype: int64"
      ]
     },
     "metadata": {},
     "output_type": "display_data"
    }
   ],
   "source": [
    "display(tile_df['cell_type'].value_counts())"
   ]
  },
  {
   "cell_type": "code",
   "execution_count": 7,
   "metadata": {},
   "outputs": [
    {
     "data": {
      "text/plain": [
       "<matplotlib.axes._subplots.AxesSubplot at 0x7f700d771b38>"
      ]
     },
     "execution_count": 7,
     "metadata": {},
     "output_type": "execute_result"
    },
    {
     "data": {
      "image/png": "[encoded data removed]",
      "text/plain": [
       "<Figure size 1080x504 with 1 Axes>"
      ]
     },
     "metadata": {},
     "output_type": "display_data"
    }
   ],
   "source": [
    "fig, ax1 = plt.subplots(1, 1, figsize= (15, 7))\n",
    "tile_df['cell_type'].value_counts().plot(kind='bar', ax=ax1)"
   ]
  },
  {
   "cell_type": "code",
   "execution_count": 8,
   "metadata": {},
   "outputs": [],
   "source": [
    "from skimage.io import imread\n",
    "from tensorflow.image import rgb_to_grayscale\n",
    "from tensorflow.python.keras.preprocessing.image import load_img, img_to_array\n",
    "from tensorflow.python.keras.applications.resnet50 import preprocess_input\n",
    "image_size = 100\n",
    "\n",
    "def read_and_prep_images(img_paths, img_width=image_size, img_height=image_size):\n",
    "    imgs = [np.asarray(Image.open(img_path).resize((img_height, img_width))) for img_path in img_paths]\n",
    "    img_arr = [preprocess_input(img) for img in imgs]\n",
    "    return img_arr\n",
    "\n",
    "#tile_df['image'] = tile_df['path'].map(lambda x: np.asarray(Image.open(x).resize((100, 75))))\n",
    "tile_df['image'] = read_and_prep_images(tile_df['path'], 100, 75)"
   ]
  },
  {
   "cell_type": "code",
   "execution_count": 9,
   "metadata": {},
   "outputs": [
    {
     "name": "stderr",
     "output_type": "stream",
     "text": [
      "Clipping input data to the valid range for imshow with RGB data ([0..1] for floats or [0..255] for integers).\n"
     ]
    },
    {
     "data": {
      "text/plain": [
       "<matplotlib.image.AxesImage at 0x7f6fac1fb630>"
      ]
     },
     "execution_count": 9,
     "metadata": {},
     "output_type": "execute_result"
    },
    {
     "data": {
      "image/png": "[encoded data removed]",
      "text/plain": [
       "<Figure size 720x720 with 2 Axes>"
      ]
     },
     "metadata": {},
     "output_type": "display_data"
    }
   ],
   "source": [
    "\n",
    "import tensorflow as tf\n",
    "img = np.asarray(Image.open(tile_df[\"path\"][300]).resize((75, 100)))\n",
    "img_g = preprocess_input(img)#sekillendiriyo yapılmayabilir\n",
    "#print(img_g.shape)\n",
    "fig, ax = plt.subplots(1, 2, figsize=(10, 10))\n",
    "ax[0].imshow(img)\n",
    "ax[1].imshow(img_g, cmap=\"gray\")"
   ]
  },
  {
   "cell_type": "code",
   "execution_count": 10,
   "metadata": {},
   "outputs": [
    {
     "data": {
      "text/plain": [
       "(100, 75, 3)    10015\n",
       "Name: image, dtype: int64"
      ]
     },
     "execution_count": 10,
     "metadata": {},
     "output_type": "execute_result"
    }
   ],
   "source": [
    "\n",
    "tile_df['image'].map(lambda x: x.shape).value_counts()"
   ]
  },
  {
   "cell_type": "code",
   "execution_count": 11,
   "metadata": {},
   "outputs": [
    {
     "data": {
      "text/plain": [
       "\"n_samples = 5\\nfig, m_axs = plt.subplots(7, n_samples, figsize = (4*n_samples, 3*7))\\nfor n_axs, (type_name, type_rows) in zip(m_axs, \\n                                         tile_df.sort_values(['cell_type']).groupby('cell_type')):\\n    n_axs[0].set_title(type_name)\\n    for c_ax, (_, c_row) in zip(n_axs, type_rows.sample(n_samples, random_state=2018).iterrows()):\\n        c_ax.imshow(c_row['image'], cmap='gray')\\n        c_ax.axis('off')\\nfig.savefig('category_samples.png', dpi=300)\""
      ]
     },
     "execution_count": 11,
     "metadata": {},
     "output_type": "execute_result"
    }
   ],
   "source": [
    "\n",
    "\"\"\"n_samples = 5\n",
    "fig, m_axs = plt.subplots(7, n_samples, figsize = (4*n_samples, 3*7))\n",
    "for n_axs, (type_name, type_rows) in zip(m_axs, \n",
    "                                         tile_df.sort_values(['cell_type']).groupby('cell_type')):\n",
    "    n_axs[0].set_title(type_name)\n",
    "    for c_ax, (_, c_row) in zip(n_axs, type_rows.sample(n_samples, random_state=2018).iterrows()):\n",
    "        c_ax.imshow(c_row['image'], cmap='gray')\n",
    "        c_ax.axis('off')\n",
    "fig.savefig('category_samples.png', dpi=300)\"\"\""
   ]
  },
  {
   "cell_type": "code",
   "execution_count": 12,
   "metadata": {},
   "outputs": [],
   "source": [
    "from sklearn.model_selection import train_test_split\n",
    "\n",
    "train_X, test_X, train_y, test_y = train_test_split(tile_df['image'], tile_df['is_cancer'], test_size=0.2, random_state=42)\n",
    "#train_X, validation_X, train_y, validation_y = train_test_split(train_X, train_y, test_size=0.1, random_state=42)"
   ]
  },
  {
   "cell_type": "code",
   "execution_count": 13,
   "metadata": {},
   "outputs": [],
   "source": [
    "train_X = np.asarray(train_X.tolist())\n",
    "test_X = np.asarray(test_X.tolist())\n",
    "#validation_X = np.asarray(validation_X.tolist())"
   ]
  },
  {
   "cell_type": "code",
   "execution_count": 14,
   "metadata": {},
   "outputs": [
    {
     "name": "stderr",
     "output_type": "stream",
     "text": [
      "Clipping input data to the valid range for imshow with RGB data ([0..1] for floats or [0..255] for integers).\n"
     ]
    },
    {
     "data": {
      "text/plain": [
       "<matplotlib.image.AxesImage at 0x7f6f747e79b0>"
      ]
     },
     "execution_count": 14,
     "metadata": {},
     "output_type": "execute_result"
    },
    {
     "data": {
      "image/png": "[encoded data removed]",
      "text/plain": [
       "<Figure size 432x288 with 2 Axes>"
      ]
     },
     "metadata": {},
     "output_type": "display_data"
    }
   ],
   "source": [
    "def rgb2gray(rgb):\n",
    "    return np.dot(rgb[...,:3], [0.299, 0.587, 0.114])\n",
    "\n",
    "fig, ax = plt.subplots(1,2)\n",
    "ax[0].imshow(train_X[0])\n",
    "ax[1].imshow(rgb2gray(train_X[0]), cmap=\"gray\")"
   ]
  },
  {
   "cell_type": "code",
   "execution_count": 15,
   "metadata": {},
   "outputs": [],
   "source": [
    "x_train_mean = np.mean(train_X)\n",
    "x_train_std = np.std(train_X)\n",
    "\n",
    "x_test_mean = np.mean(test_X)\n",
    "x_test_std = np.std(test_X)\n",
    "\n",
    "#x_val_mean = np.mean(validation_X)\n",
    "#x_val_std = np.std(validation_X)\n",
    "\n",
    "train_X = (train_X - x_train_mean)/x_train_std\n",
    "test_X = (test_X - x_test_mean)/x_test_std\n",
    "#validation_X = (validation_X - x_val_mean)/x_val_std"
   ]
  },
  {
   "cell_type": "code",
   "execution_count": 16,
   "metadata": {},
   "outputs": [
    {
     "name": "stderr",
     "output_type": "stream",
     "text": [
      "Clipping input data to the valid range for imshow with RGB data ([0..1] for floats or [0..255] for integers).\n"
     ]
    },
    {
     "data": {
      "text/plain": [
       "<matplotlib.image.AxesImage at 0x7f6f9f7754a8>"
      ]
     },
     "execution_count": 16,
     "metadata": {},
     "output_type": "execute_result"
    },
    {
     "data": {
      "image/png": "[encoded data removed]",
      "text/plain": [
       "<Figure size 432x288 with 2 Axes>"
      ]
     },
     "metadata": {},
     "output_type": "display_data"
    }
   ],
   "source": [
    "fig, ax = plt.subplots(1,2)\n",
    "ax[0].imshow(train_X[0])\n",
    "ax[1].imshow(rgb2gray(train_X[0]), cmap=\"gray\")"
   ]
  },
  {
   "cell_type": "code",
   "execution_count": 17,
   "metadata": {},
   "outputs": [
    {
     "name": "stderr",
     "output_type": "stream",
     "text": [
      "Using TensorFlow backend.\n"
     ]
    }
   ],
   "source": [
    "from keras.utils.np_utils import to_categorical # convert to one-hot-encoding\n",
    "train_y = to_categorical(train_y, num_classes = 2)\n",
    "test_y = to_categorical(test_y, num_classes = 2)\n",
    "#validation_y = to_categorical(validation_y, num_classes = 2)"
   ]
  },
  {
   "cell_type": "code",
   "execution_count": 18,
   "metadata": {},
   "outputs": [],
   "source": [
    "import keras as K\n",
    "from keras.models import Sequential\n",
    "from keras.layers import Dense, Flatten, Lambda, Conv2D, MaxPool2D, Dropout, BatchNormalization\n",
    "from keras.layers.advanced_activations import LeakyReLU\n",
    "from IPython.display import clear_output\n",
    "\n",
    "class PlotLosses(K.callbacks.Callback):\n",
    "    def on_train_begin(self, logs={}):\n",
    "        self.i = 0\n",
    "        self.x = []\n",
    "        self.losses = []\n",
    "        self.val_losses = []\n",
    "        self.accs = []\n",
    "        self.val_accs = []\n",
    "        self.fig = plt.figure()\n",
    "        self.logs = []\n",
    "\n",
    "    def on_epoch_end(self, epoch, logs={}):\n",
    "        self.logs.append(logs)\n",
    "        self.x.append(self.i)\n",
    "        self.losses.append(logs.get('loss'))\n",
    "        self.val_losses.append(logs.get('val_loss'))\n",
    "        self.accs.append(logs.get('acc'))\n",
    "        self.val_accs.append(logs.get('val_acc'))\n",
    "        self.i += 1\n",
    "        \n",
    "        clear_output(wait=True)\n",
    "        fig, ax = plt.subplots(1, 2, figsize=(10, 5))\n",
    "        ax[0].plot(self.x, self.losses, label=\"loss\")\n",
    "        ax[0].plot(self.x, self.val_losses, label=\"val_loss\")\n",
    "        ax[0].legend()\n",
    "        ax[1].plot(self.x, self.accs, label=\"accuracy\")\n",
    "        ax[1].plot(self.x, self.val_accs, label=\"val_accuracy\")\n",
    "        ax[1].legend()\n",
    "        plt.legend()\n",
    "        plt.show();\n",
    "        \n",
    "plot_losses = PlotLosses()"
   ]
  },
  {
   "cell_type": "code",
   "execution_count": 19,
   "metadata": {},
   "outputs": [],
   "source": [
    "from sklearn.metrics import confusion_matrix, roc_curve, auc, classification_report, precision_recall_curve, average_precision_score\n",
    "import itertools\n",
    "\n",
    "def plot_confusion_matrix(ax, cm, classes,\n",
    "                          title='Confusion matrix',\n",
    "                          cmap=plt.cm.Blues):\n",
    "    \n",
    "    fmt = '.2f'\n",
    "    tick_marks = np.arange(len(classes))\n",
    "    ax.imshow(cm, interpolation='nearest', cmap=cmap)\n",
    "    ax.set_title(title)\n",
    "    ax.set_xticks(tick_marks)\n",
    "    ax.set_xticklabels(classes)\n",
    "    ax.set_yticks(tick_marks)\n",
    "    ax.set_yticklabels(classes, rotation=90, va=\"center\")\n",
    "    thresh = cm.max() / 2.\n",
    "    for i, j in itertools.product(range(cm.shape[0]), range(cm.shape[1])):\n",
    "        ax.text(j, i, format(cm[i, j], fmt),\n",
    "                 horizontalalignment=\"center\",\n",
    "                 color=\"white\" if cm[i, j] > thresh else \"black\")\n",
    "    ax.set_ylabel('True label')\n",
    "    ax.set_xlabel('Predicted label')\n",
    "    \n",
    "def plot_roc_curve(ax, y, y_pred, title=\"ROC Curve\"):\n",
    "    fpr, tpr, thresholds_roc = roc_curve(y, y_pred)\n",
    "    roc_auc = auc(fpr,tpr)\n",
    "    ax.plot(fpr,tpr, label = \"AUC = {:0.2f}\".format(roc_auc), lw = 3, alpha = 0.7)\n",
    "    ax.plot([0,1], [0,1], 'r', linestyle = \"--\", lw = 2)\n",
    "    ax.set_xlabel(\"False Positive Rate\")\n",
    "    ax.set_ylabel(\"True Positive Rate\")\n",
    "    ax.set_title(title)\n",
    "    ax.legend(loc = 'best')\n",
    "    close_default = np.argmin(np.abs(thresholds_roc - 0.5))\n",
    "    ax.plot(fpr[close_default], tpr[close_default], 'o', markersize = 8)\n",
    "\n",
    "def plot_presicion_recall_curve(ax, y, y_pred_proba, title=\"Precision-Recall Curve\"):\n",
    "    precision, recall, thresholds_pr = precision_recall_curve(y, y_pred_proba)\n",
    "    avg_pre = average_precision_score(y, y_pred_proba)\n",
    "    area = auc(recall, precision)\n",
    "    ax.plot(recall, precision, label = \"Average precision = {:0.2f}, AUC = {:0.2f}\".format(avg_pre, area), lw = 3, alpha = 0.7)\n",
    "    ax.set_xlabel('Recall')\n",
    "    ax.set_ylabel('Precision')\n",
    "    ax.set_title(title)\n",
    "    ax.legend(loc = 'best')\n",
    "    # plot no skill\n",
    "    ax.plot([0, 1], [0.5, 0.5], linestyle='--')\n",
    "    #find default threshold\n",
    "    close_default = np.argmin(np.abs(thresholds_pr - 0.5))\n",
    "    ax.plot(precision[close_default], recall[close_default], 'o', markersize = 8)\n",
    "    \n",
    "def hastaliklar(model, model_title):\n",
    "    test_pred = model.predict_classes(test_X)\n",
    "    test_pred_proba = model.predict_proba(test_X)[:,1]\n",
    "    \n",
    "    train_score = model.evaluate(train_X, train_y)[1]\n",
    "    test_score = model.evaluate(test_X, test_y)[1]\n",
    "    \n",
    "    \"\"\"\"classes = list(range(7))\n",
    "    classes = pd.Categorical.from_codes(classes, sorted(lesion_type_dict.values()))\n",
    "    classes = np.array(classes)\"\"\"\n",
    "    classes = [\"Kansersiz\", \"Kanserli\"]\n",
    "    sinir = \"\\n\" + \"-\"*50\n",
    "    \n",
    "    print(\"=\"*6, \"Skorlar\", \"=\"*6)\n",
    "    print(\"Training Score:\\t{:.4f}\".format(train_score))\n",
    "    print(\"Test Score:\\t\\t{:.4f}\".format(test_score))\n",
    "    np.set_printoptions(precision=2)\n",
    "    \n",
    "    print(sinir)\n",
    "    print(\"=\"*6, \"Test Sınıflandırma Raporu\", \"=\"*6)\n",
    "    test_y_uc = pd.DataFrame([np.argmax(y) for y in test_y])\n",
    "    print(classification_report(test_y_uc, test_pred))\n",
    "    cnf_matrix1 = confusion_matrix(test_y_uc, test_pred)\n",
    "    cnf_matrix1_nrm = cnf_matrix1.astype('float') / cnf_matrix1.sum(axis=1)[:, np.newaxis]\n",
    "    print(sinir)\n",
    "    \n",
    "    fig, ax = plt.subplots(1, figsize=(5, 5)) \n",
    "    fig.suptitle(model_title, fontsize=20)\n",
    "    plot_confusion_matrix(ax, cnf_matrix1_nrm, classes, title='Test Confusion Matrix')\n",
    "    #plot_roc_curve(ax[0,1], test_y_uc, test_pred_proba, title=\"Test ROC Curve\")\n",
    "    #plot_presicion_recall_curve(ax[0,2], test_y_uc, test_pred_proba, title=\"Test Precision-Recall Curve\")\n",
    "\n",
    "def precision_hesapla(TP, FP):\n",
    "    return TP/(TP + FP)\n",
    "\n",
    "def recall_hesapla(TP, FN):\n",
    "    return TP/(TP + FN)\n",
    "    \n",
    "def ortalama(x):\n",
    "    return (x[1]+x[2])/2"
   ]
  },
  {
   "cell_type": "code",
   "execution_count": 20,
   "metadata": {},
   "outputs": [],
   "source": [
    "from tensorflow.python.keras.preprocessing.image import ImageDataGenerator\n",
    "from keras.callbacks import ReduceLROnPlateau\n",
    "\n",
    "batch_size = 32\n",
    "\n",
    "generator = ImageDataGenerator(\n",
    "    validation_split=0.1,\n",
    "    featurewise_center=False,\n",
    "    samplewise_center=False,\n",
    "    featurewise_std_normalization=False,\n",
    "    samplewise_std_normalization=False,\n",
    "    zca_whitening=False,\n",
    "    rotation_range=20,\n",
    "    zoom_range=0.2,\n",
    "    width_shift_range=0.2,\n",
    "    height_shift_range=0.2,\n",
    "    horizontal_flip=False,\n",
    "    vertical_flip=False)\n",
    "\n",
    "generator.fit(train_X)\n",
    "\n",
    "train_generator = generator.flow(\n",
    "    train_X,\n",
    "    train_y,\n",
    "    batch_size=batch_size,\n",
    "    subset='training') # set as training data\n",
    "\n",
    "validation_generator = generator.flow(\n",
    "    train_X,\n",
    "    train_y,\n",
    "    batch_size=batch_size,\n",
    "    subset='validation') # set as validation data\n",
    "\n",
    "learning_rate_reduction = ReduceLROnPlateau(monitor='val_acc', \n",
    "                                            patience=3, \n",
    "                                            verbose=1, \n",
    "                                            factor=0.5, \n",
    "                                            min_lr=0.00001)"
   ]
  },
  {
   "cell_type": "code",
   "execution_count": 21,
   "metadata": {},
   "outputs": [
    {
     "name": "stdout",
     "output_type": "stream",
     "text": [
      "WARNING:tensorflow:From /opt/conda/lib/python3.6/site-packages/tensorflow/python/framework/op_def_library.py:263: colocate_with (from tensorflow.python.framework.ops) is deprecated and will be removed in a future version.\n",
      "Instructions for updating:\n",
      "Colocations handled automatically by placer.\n",
      "WARNING:tensorflow:From /opt/conda/lib/python3.6/site-packages/keras/backend/tensorflow_backend.py:3445: calling dropout (from tensorflow.python.ops.nn_ops) with keep_prob is deprecated and will be removed in a future version.\n",
      "Instructions for updating:\n",
      "Please use `rate` instead of `keep_prob`. Rate should be set to `rate = 1 - keep_prob`.\n",
      "_________________________________________________________________\n",
      "Layer (type)                 Output Shape              Param #   \n",
      "=================================================================\n",
      "conv2d_1 (Conv2D)            (None, 98, 73, 128)       3584      \n",
      "_________________________________________________________________\n",
      "leaky_re_lu_1 (LeakyReLU)    (None, 98, 73, 128)       0         \n",
      "_________________________________________________________________\n",
      "conv2d_2 (Conv2D)            (None, 96, 71, 128)       147584    \n",
      "_________________________________________________________________\n",
      "leaky_re_lu_2 (LeakyReLU)    (None, 96, 71, 128)       0         \n",
      "_________________________________________________________________\n",
      "max_pooling2d_1 (MaxPooling2 (None, 48, 35, 128)       0         \n",
      "_________________________________________________________________\n",
      "batch_normalization_1 (Batch (None, 48, 35, 128)       512       \n",
      "_________________________________________________________________\n",
      "dropout_1 (Dropout)          (None, 48, 35, 128)       0         \n",
      "_________________________________________________________________\n",
      "conv2d_3 (Conv2D)            (None, 46, 33, 64)        73792     \n",
      "_________________________________________________________________\n",
      "leaky_re_lu_3 (LeakyReLU)    (None, 46, 33, 64)        0         \n",
      "_________________________________________________________________\n",
      "conv2d_4 (Conv2D)            (None, 44, 31, 64)        36928     \n",
      "_________________________________________________________________\n",
      "leaky_re_lu_4 (LeakyReLU)    (None, 44, 31, 64)        0         \n",
      "_________________________________________________________________\n",
      "max_pooling2d_2 (MaxPooling2 (None, 22, 15, 64)        0         \n",
      "_________________________________________________________________\n",
      "batch_normalization_2 (Batch (None, 22, 15, 64)        256       \n",
      "_________________________________________________________________\n",
      "dropout_2 (Dropout)          (None, 22, 15, 64)        0         \n",
      "_________________________________________________________________\n",
      "conv2d_5 (Conv2D)            (None, 20, 13, 32)        18464     \n",
      "_________________________________________________________________\n",
      "leaky_re_lu_5 (LeakyReLU)    (None, 20, 13, 32)        0         \n",
      "_________________________________________________________________\n",
      "conv2d_6 (Conv2D)            (None, 18, 11, 32)        9248      \n",
      "_________________________________________________________________\n",
      "leaky_re_lu_6 (LeakyReLU)    (None, 18, 11, 32)        0         \n",
      "_________________________________________________________________\n",
      "max_pooling2d_3 (MaxPooling2 (None, 9, 5, 32)          0         \n",
      "_________________________________________________________________\n",
      "batch_normalization_3 (Batch (None, 9, 5, 32)          128       \n",
      "_________________________________________________________________\n",
      "dropout_3 (Dropout)          (None, 9, 5, 32)          0         \n",
      "_________________________________________________________________\n",
      "flatten_1 (Flatten)          (None, 1440)              0         \n",
      "_________________________________________________________________\n",
      "dense_1 (Dense)              (None, 128)               184448    \n",
      "_________________________________________________________________\n",
      "leaky_re_lu_7 (LeakyReLU)    (None, 128)               0         \n",
      "_________________________________________________________________\n",
      "batch_normalization_4 (Batch (None, 128)               512       \n",
      "_________________________________________________________________\n",
      "dropout_4 (Dropout)          (None, 128)               0         \n",
      "_________________________________________________________________\n",
      "dense_2 (Dense)              (None, 2)                 258       \n",
      "=================================================================\n",
      "Total params: 475,714\n",
      "Trainable params: 475,010\n",
      "Non-trainable params: 704\n",
      "_________________________________________________________________\n"
     ]
    }
   ],
   "source": [
    "K.backend.clear_session()\n",
    "input_shape = (100, 75, 3)\n",
    "num_classes = 2\n",
    "\n",
    "model = Sequential()\n",
    "#model.add(Lambda(lambda x: rgb_to_grayscale(x), input_shape = input_shape))\n",
    "model.add(Conv2D(128, kernel_size=(3, 3), input_shape = input_shape)\n",
    "         #,activation=\"relu\"\n",
    "         )\n",
    "model.add(LeakyReLU(alpha=0.2))\n",
    "model.add(Conv2D(128, kernel_size=(3, 3)))\n",
    "model.add(LeakyReLU(alpha=0.2))\n",
    "model.add(MaxPool2D(pool_size = (2, 2)))\n",
    "model.add(BatchNormalization(momentum=0.3))\n",
    "model.add(Dropout(0.1))\n",
    "\n",
    "model.add(Conv2D(64, (3, 3)))\n",
    "model.add(LeakyReLU(alpha=0.2))\n",
    "model.add(Conv2D(64, (3, 3)))\n",
    "model.add(LeakyReLU(alpha=0.2))\n",
    "model.add(MaxPool2D(pool_size=(2, 2)))\n",
    "model.add(BatchNormalization(momentum=0.2))\n",
    "model.add(Dropout(0.2))\n",
    "\n",
    "model.add(Conv2D(32, (3, 3)))\n",
    "model.add(LeakyReLU(alpha=0.2))\n",
    "model.add(Conv2D(32, (3, 3)))\n",
    "model.add(LeakyReLU(alpha=0.2))\n",
    "model.add(MaxPool2D(pool_size=(2, 2)))\n",
    "model.add(BatchNormalization(momentum=0.2))\n",
    "model.add(Dropout(0.2))\n",
    "\n",
    "model.add(Flatten())\n",
    "model.add(Dense(128))\n",
    "model.add(LeakyReLU(alpha=0.2))\n",
    "model.add(BatchNormalization(momentum=0.3))\n",
    "model.add(Dropout(0.2))\n",
    "model.add(Dense(num_classes, activation='softmax'))\n",
    "model.summary()"
   ]
  },
  {
   "cell_type": "code",
   "execution_count": 22,
   "metadata": {},
   "outputs": [],
   "source": [
    "model.compile(optimizer=K.optimizers.Adam() , loss = \"categorical_crossentropy\", metrics=[\"accuracy\"])"
   ]
  },
  {
   "cell_type": "code",
   "execution_count": 23,
   "metadata": {},
   "outputs": [
    {
     "data": {
      "image/png": "[encoded data removed]",
      "text/plain": [
       "<Figure size 720x360 with 2 Axes>"
      ]
     },
     "metadata": {},
     "output_type": "display_data"
    },
    {
     "name": "stdout",
     "output_type": "stream",
     "text": [
      "Epoch 19/50\n",
      " 23/250 [=>............................] - ETA: 11s - loss: 0.3382 - acc: 0.8386"
     ]
    }
   ],
   "source": [
    "model.fit_generator(generator=train_generator, steps_per_epoch = len(train_X)//batch_size,\n",
    "                    validation_data=validation_generator, validation_steps = (len(train_X)*0.1)//batch_size,\n",
    "                    epochs=50, callbacks=[learning_rate_reduction, plot_losses])\n",
    "\"\"\"\"model.fit_generator(train_generator,epochs=25,\n",
    "                            steps_per_epoch=80,\n",
    "                            validation_data=validation_generator,\n",
    "                            validation_steps = (len(train_X)*0.1)//batch_size,\n",
    "                            callbacks=[learning_rate_reduction, plot_losses])\"\"\"\n"
   ]
  },
  {
   "cell_type": "code",
   "execution_count": 24,
   "metadata": {},
   "outputs": [
    {
     "name": "stdout",
     "output_type": "stream",
     "text": [
      "8012/8012 [==============================] - 3s 422us/step\n",
      "2003/2003 [==============================] - 1s 413us/step\n",
      "====== Skorlar ======\n",
      "Training Score:\t0.8732\n",
      "Test Score:\t\t0.8617\n",
      "\n",
      "--------------------------------------------------\n",
      "====== Test Sınıflandırma Raporu ======\n",
      "              precision    recall  f1-score   support\n",
      "\n",
      "           0       0.89      0.90      0.90      1338\n",
      "           1       0.80      0.78      0.79       665\n",
      "\n",
      "   micro avg       0.86      0.86      0.86      2003\n",
      "   macro avg       0.85      0.84      0.84      2003\n",
      "weighted avg       0.86      0.86      0.86      2003\n",
      "\n",
      "\n",
      "--------------------------------------------------\n"
     ]
    },
    {
     "data": {
      "image/png": "[encoded data removed]",
      "text/plain": [
       "<Figure size 360x360 with 1 Axes>"
      ]
     },
     "metadata": {},
     "output_type": "display_data"
    }
   ],
   "source": [
    "hastaliklar(model, \"CNN\")"
   ]
  },
  {
   "cell_type": "code",
   "execution_count": 25,
   "metadata": {},
   "outputs": [
    {
     "name": "stdout",
     "output_type": "stream",
     "text": [
      "Saved model to disk\n"
     ]
    }
   ],
   "source": [
    "model_json = model.to_json()\n",
    "with open(\"./skin_cancer32.json\", \"w\") as json_file:\n",
    "    json_file.write(model_json)\n",
    "# serialize weights to HDF5\n",
    "model.save_weights(\"./skin_cancer32.h5\")\n",
    "print(\"Saved model to disk\")"
   ]
  },
  {
   "cell_type": "code",
   "execution_count": 26,
   "metadata": {},
   "outputs": [
    {
     "data": {
      "text/plain": [
       "'from keras.applications.resnet50 import ResNet50\\nfrom keras.optimizers import Adam, RMSprop\\nepochs = 100\\n\\nmodel = ResNet50(include_top=True,\\n                 weights= None,\\n                 input_tensor=None,\\n                 input_shape=(100, 75, 3),\\n                 pooling=\\'max\\',\\n                 classes=7)\\n\\nmodel.compile(optimizer = Adam(1e-5) ,\\n              loss = \"binary_crossentropy\", \\n              metrics=[\"accuracy\"])\\n\\nhistory = model.fit(train_X, train_y, validation_split=0.2,\\n                    epochs= epochs, batch_size= batch_size, verbose=0, \\n                    callbacks=[learning_rate_reduction]\\n                   )\\n\\n# list all data in history\\nprint(history.history.keys())\\n# summarize history for accuracy\\nplt.plot(history.history[\\'acc\\'])\\nplt.plot(history.history[\\'val_acc\\'])\\nplt.title(\\'model accuracy\\')\\nplt.ylabel(\\'accuracy\\')\\nplt.xlabel(\\'epoch\\')\\nplt.legend([\\'train\\', \\'test\\'], loc=\\'upper left\\')\\nplt.show()\\n# summarize history for loss\\nplt.plot(history.history[\\'loss\\'])\\nplt.plot(history.history[\\'val_loss\\'])\\nplt.title(\\'model loss\\')\\nplt.ylabel(\\'loss\\')\\nplt.xlabel(\\'epoch\\')\\nplt.legend([\\'train\\', \\'test\\'], loc=\\'upper left\\')\\nplt.show()'"
      ]
     },
     "execution_count": 26,
     "metadata": {},
     "output_type": "execute_result"
    }
   ],
   "source": [
    "\"\"\"from keras.applications.resnet50 import ResNet50\n",
    "from keras.optimizers import Adam, RMSprop\n",
    "epochs = 100\n",
    "\n",
    "model = ResNet50(include_top=True,\n",
    "                 weights= None,\n",
    "                 input_tensor=None,\n",
    "                 input_shape=(100, 75, 3),\n",
    "                 pooling='max',\n",
    "                 classes=7)\n",
    "\n",
    "model.compile(optimizer = Adam(1e-5) ,\n",
    "              loss = \"binary_crossentropy\", \n",
    "              metrics=[\"accuracy\"])\n",
    "\n",
    "history = model.fit(train_X, train_y, validation_split=0.2,\n",
    "                    epochs= epochs, batch_size= batch_size, verbose=0, \n",
    "                    callbacks=[learning_rate_reduction]\n",
    "                   )\n",
    "\n",
    "# list all data in history\n",
    "print(history.history.keys())\n",
    "# summarize history for accuracy\n",
    "plt.plot(history.history['acc'])\n",
    "plt.plot(history.history['val_acc'])\n",
    "plt.title('model accuracy')\n",
    "plt.ylabel('accuracy')\n",
    "plt.xlabel('epoch')\n",
    "plt.legend(['train', 'test'], loc='upper left')\n",
    "plt.show()\n",
    "# summarize history for loss\n",
    "plt.plot(history.history['loss'])\n",
    "plt.plot(history.history['val_loss'])\n",
    "plt.title('model loss')\n",
    "plt.ylabel('loss')\n",
    "plt.xlabel('epoch')\n",
    "plt.legend(['train', 'test'], loc='upper left')\n",
    "plt.show()\"\"\""
   ]
  },
  {
   "cell_type": "code",
   "execution_count": 27,
   "metadata": {},
   "outputs": [],
   "source": []
  }
 ],
 "metadata": {
  "kernelspec": {
   "display_name": "Python 3",
   "language": "python",
   "name": "python3"
  },
  "language_info": {
   "codemirror_mode": {
    "name": "ipython",
    "version": 3
   },
   "file_extension": ".py",
   "mimetype": "text/x-python",
   "name": "python",
   "nbconvert_exporter": "python",
   "pygments_lexer": "ipython3",
   "version": "3.6.4"
  }
 },
 "nbformat": 4,
 "nbformat_minor": 1
}
